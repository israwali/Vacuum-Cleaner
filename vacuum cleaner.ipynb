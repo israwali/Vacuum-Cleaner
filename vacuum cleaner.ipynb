{
 "cells": [
  {
   "cell_type": "code",
   "execution_count": 1,
   "metadata": {},
   "outputs": [
    {
     "name": "stdout",
     "output_type": "stream",
     "text": [
      "Yes, the dirt can be cleaned.\n",
      "1 1\n",
      "2 1\n",
      "3 1\n"
     ]
    },
    {
     "data": {
      "text/plain": [
       "0"
      ]
     },
     "execution_count": 1,
     "metadata": {},
     "output_type": "execute_result"
    }
   ],
   "source": [
    "\n",
    "A = [[0 for i in range(105)] for j in range(105)]\n",
    " \n",
    "\n",
    "ans = []\n",
    " \n",
    "\n",
    "def printt():\n",
    "     \n",
    "    print(\"Yes, the dirt can be cleaned.\")\n",
    "    for i in range(len(ans)):\n",
    "        print(ans[i][0], ans[i][1])\n",
    "         \n",
    "\n",
    "def solve(n):\n",
    "    global ans\n",
    "     \n",
    "\n",
    "    for i in range(n):\n",
    "        for j in range(n):\n",
    "            if (A[i][j] == '.'):\n",
    "                ans.append([i + 1, j + 1])\n",
    "                break\n",
    "             \n",
    " \n",
    "    if (len(ans) == n):\n",
    "        printt()\n",
    "        return 0\n",
    "         \n",
    "    ans = []\n",
    "     \n",
    "  \n",
    "    for i in range(n):\n",
    "        for j in range(n):\n",
    "            if (A[j][i] == '.'):\n",
    "                ans.append([i + 1, j + 1])\n",
    "                break\n",
    "             \n",
    "    \n",
    "    if (len(ans) == n):\n",
    "        printt()\n",
    "        return 0\n",
    "    print(\"dirt cannot be cleaned.\")\n",
    " \n",
    "\n",
    "n = 3\n",
    "s = \"\"\n",
    "s += \".**\"\n",
    "s += \".**\"\n",
    "s += \".**\"\n",
    "k = 0\n",
    " \n",
    "\n",
    "for i in range(n):\n",
    "    for j in range(n):\n",
    "        A[i][j] = s[k]\n",
    "        k += 1\n",
    " \n",
    "solve(n)"
   ]
  }
 ],
 "metadata": {
  "kernelspec": {
   "display_name": "Python 3",
   "language": "python",
   "name": "python3"
  },
  "language_info": {
   "codemirror_mode": {
    "name": "ipython",
    "version": 3
   },
   "file_extension": ".py",
   "mimetype": "text/x-python",
   "name": "python",
   "nbconvert_exporter": "python",
   "pygments_lexer": "ipython3",
   "version": "3.10.10 (tags/v3.10.10:aad5f6a, Feb  7 2023, 17:20:36) [MSC v.1929 64 bit (AMD64)]"
  },
  "orig_nbformat": 4,
  "vscode": {
   "interpreter": {
    "hash": "3ddbf39048e9ee460398f03263e8da228824bd5655ae7d1c2ff3f969854f041d"
   }
  }
 },
 "nbformat": 4,
 "nbformat_minor": 2
}
